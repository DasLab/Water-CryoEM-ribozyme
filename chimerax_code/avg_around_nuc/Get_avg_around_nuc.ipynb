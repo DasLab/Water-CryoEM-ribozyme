{
 "cells": [
  {
   "cell_type": "code",
   "execution_count": 1,
   "id": "8c51bb64-094a-4a64-81f8-877d0b46cb7b",
   "metadata": {},
   "outputs": [
    {
     "name": "stderr",
     "output_type": "stream",
     "text": [
      "C:\\Users\\racha\\anaconda3\\lib\\site-packages\\Bio\\pairwise2.py:278: BiopythonDeprecationWarning: Bio.pairwise2 has been deprecated, and we intend to remove it in a future release of Biopython. As an alternative, please consider using Bio.Align.PairwiseAligner as a replacement, and contact the Biopython developers if you still need the Bio.pairwise2 module.\n",
      "  warnings.warn(\n"
     ]
    }
   ],
   "source": [
    "import mrcfile\n",
    "import sys\n",
    "sys.path.append('../analysis/')\n",
    "from utils import *\n",
    "import MDAnalysis\n",
    "from MDAnalysis.analysis import align\n",
    "\n",
    "nt_file = 'A.pdb'\n",
    "solvmrc = 'Con2_1.8Acutoff.mrc'\n",
    "molmap = 'Con2molmap.mrc'\n",
    "mrc_f = '../maps/Con2-2.2A_sh.mrc'"
   ]
  },
  {
   "cell_type": "code",
   "execution_count": 2,
   "id": "1dbddddd-a092-47eb-80f3-b5fbecdb1349",
   "metadata": {},
   "outputs": [],
   "source": [
    "\n",
    "    # apply T to comp then R, reverse apply R and then T"
   ]
  },
  {
   "cell_type": "code",
   "execution_count": 11,
   "id": "b4bbc42e-4426-49d9-97b8-9aa848f3f118",
   "metadata": {
    "scrolled": true,
    "tags": []
   },
   "outputs": [
    {
     "name": "stdout",
     "output_type": "stream",
     "text": [
      "['O2', 'C2', 'C4', 'C6', 'C5', 'N1', 'N3', 'N4']\n"
     ]
    },
    {
     "name": "stderr",
     "output_type": "stream",
     "text": [
      "256it [00:59,  4.27it/s] \n",
      "256it [01:00,  4.24it/s] \n",
      "256it [01:43,  2.48it/s] \n",
      "256it [02:58,  1.43it/s] \n"
     ]
    },
    {
     "name": "stdout",
     "output_type": "stream",
     "text": [
      "['C4', 'N3', 'N9', 'C6', 'C8', 'C5', 'O6', 'N7', 'N1', 'C2', 'N2']\n"
     ]
    },
    {
     "name": "stderr",
     "output_type": "stream",
     "text": [
      "256it [05:23,  1.26s/it]\n",
      "256it [05:19,  1.25s/it]\n",
      "256it [04:55,  1.15s/it]\n",
      "256it [05:24,  1.27s/it]\n"
     ]
    },
    {
     "name": "stdout",
     "output_type": "stream",
     "text": [
      "['O2', 'C4', 'C6', 'C5', 'N1', 'N3', 'C2', 'O4']\n"
     ]
    },
    {
     "name": "stderr",
     "output_type": "stream",
     "text": [
      "256it [04:39,  1.09s/it]\n",
      "256it [05:01,  1.18s/it]\n",
      "256it [04:22,  1.03s/it]\n",
      "256it [03:31,  1.21it/s]\n"
     ]
    },
    {
     "name": "stdout",
     "output_type": "stream",
     "text": [
      "['C4', 'N3', 'N9', 'C6', 'C8', 'C5', 'N6', 'N1', 'C2', 'N7']\n"
     ]
    },
    {
     "name": "stderr",
     "output_type": "stream",
     "text": [
      "256it [02:24,  1.77it/s]\n",
      "256it [01:54,  2.23it/s] \n",
      "256it [01:58,  2.17it/s]\n",
      "256it [02:01,  2.10it/s] \n"
     ]
    }
   ],
   "source": [
    "import shutil\n",
    "from tqdm import tqdm\n",
    "# for each submap\n",
    "# comp to ref --> \n",
    "# ref to comp --> R + T\n",
    "def get_avg_dens(mrc_f,output,transforms,ref,Tref,swap=False):\n",
    "    shutil.copy('../maps/Con2-2.2A_sh.mrc',output)\n",
    "    dist_cutoff=5\n",
    "\n",
    "    \n",
    "    get_dens = get_density_interpolator(mrc_f)\n",
    "    # get 2.2A coordinate frame\n",
    "    with mrcfile.open(output, mode='r+') as mrc:\n",
    "        xs = (np.arange(mrc.header.nxstart,mrc.header.mx)*mrc.voxel_size.x)+mrc.header.origin.x\n",
    "        ys = (np.arange(mrc.header.nystart,mrc.header.my)*mrc.voxel_size.y)+mrc.header.origin.y\n",
    "        zs = (np.arange(mrc.header.nzstart,mrc.header.mz)*mrc.voxel_size.z)+mrc.header.origin.z\n",
    "\n",
    "        dist = np.absolute(np.subtract.outer(xs,ref.atoms.positions[:,0]))\n",
    "        mindist = np.min(dist,axis=1)\n",
    "        ok_xs = xs[mindist<dist_cutoff]\n",
    "        dist = np.absolute(np.subtract.outer(xs,ref.atoms.positions[:,1]))\n",
    "        mindist = np.min(dist,axis=1)\n",
    "        ok_ys = ys[mindist<dist_cutoff]\n",
    "        dist = np.absolute(np.subtract.outer(xs,ref.atoms.positions[:,2]))\n",
    "        mindist = np.min(dist,axis=1)\n",
    "        ok_zs = zs[mindist<dist_cutoff]\n",
    "        #if swap:\n",
    "        #    ok = ok_xs.copy()\n",
    "        #    ok_xs = ok_zs.copy()\n",
    "        #    ok_zs = ok\n",
    "        for i,x in tqdm(enumerate(xs)):\n",
    "            if x not in ok_xs:\n",
    "                mrc.data[i,:,:] = 0\n",
    "                continue\n",
    "            for j,y in enumerate(ys):\n",
    "                if y not in ok_ys:\n",
    "                    mrc.data[i,j,:] = 0\n",
    "                    continue\n",
    "                for k,z in enumerate(zs):\n",
    "                    mrc.data[i,j,k] = 0\n",
    "                    if z in ok_zs and x in ok_xs and y in ok_ys:\n",
    "                        dists = np.linalg.norm([x,y,z]-ref.atoms.positions,axis=1)\n",
    "                        if dists.min()<dist_cutoff:\n",
    "                            # all R,T\n",
    "                            #if swap:\n",
    "                            #    voxel = [z,y,x]\n",
    "                            #else:\n",
    "                            voxel = [x,y,z]\n",
    "                            for R,T in transforms:\n",
    "                                tvoxel = np.matmul(R,voxel-Tref) + T\n",
    "                                #if swap:\n",
    "                                #    tvoxel = np.flip(tvoxel)\n",
    "                                dens = get_dens(tvoxel)\n",
    "                                mrc.data[i,j,k] += dens/len(transforms)\n",
    "# A\n",
    "def get_all_nuc_dens(nt):\n",
    "    ref = MDAnalysis.Universe(f'{nt}.pdb')\n",
    "    u22 = MDAnalysis.Universe(PDB22_F)\n",
    "    transforms = []\n",
    "    backbone = ['OP1', \"C2'\", \"O3'\", \"O5'\", \"O2'\", \"C3'\", 'OP2', \"C5'\", \"C4'\", 'P', \"C1'\", \"O4'\"]\n",
    "    atom_neam_ = list(set(ref.select_atoms(f'{RNA_SELECTION} and not ({\" or\".join([\"name \"+x for x in backbone])})').names))\n",
    "    print(atom_neam_)\n",
    "    atom_neam_.sort()\n",
    "    ref_atoms = sum([ref.select_atoms(f'{RNA_SELECTION} and name {x}') for x in atom_neam_])\n",
    "    Tref = ref_atoms.atoms.center_of_mass()\n",
    "    for resnum in u22.select_atoms(f'resname {nt}').residues.resnums:\n",
    "        if resnum!=22:\n",
    "            comp_atoms = sum([u22.select_atoms(f'{RNA_SELECTION} and resnum {resnum} and name {x}') for x in atom_neam_])\n",
    "            T = comp_atoms.atoms.center_of_mass() \n",
    "            R, rmsd = align.rotation_matrix(ref_atoms.positions - Tref,comp_atoms.positions - T)\n",
    "            if rmsd < 1:\n",
    "                transforms.append([R,T])                                \n",
    "    get_avg_dens('../maps/Con2-2.2A_sh.mrc',f'{nt}_all.mrc',transforms,ref,Tref)\n",
    "    get_avg_dens('../simulations/nt_wat.mrc',f'{nt}_md.mrc',transforms,ref,Tref)\n",
    "    get_avg_dens('Con2_1.8Acutoff.mrc',f'{nt}_solv.mrc',transforms,ref,Tref,swap=True)\n",
    "    get_avg_dens('Con2molmap.mrc',f'{nt}_molmap.mrc',transforms,ref,Tref,swap=True)\n",
    "\n",
    "#\n",
    "get_all_nuc_dens('C')\n",
    "get_all_nuc_dens('G')\n",
    "get_all_nuc_dens('U')\n",
    "                                                                                   \n",
    "get_all_nuc_dens('A')\n",
    "# backbone later?"
   ]
  },
  {
   "cell_type": "code",
   "execution_count": 89,
   "id": "b6d967e6-ad03-43d7-a83f-d4489507aea4",
   "metadata": {},
   "outputs": [
    {
     "data": {
      "text/plain": [
       "array([[106.24 , 108.789,  97.701],\n",
       "       [109.821, 107.453,  99.779],\n",
       "       [105.374, 107.594,  97.991],\n",
       "       [104.017, 108.232,  98.19 ],\n",
       "       [108.05 , 108.719,  99.538],\n",
       "       [104.051, 109.327,  97.14 ],\n",
       "       [108.343, 109.467, 100.638],\n",
       "       [103.104, 110.463,  97.389],\n",
       "       [109.497, 109.148, 101.346],\n",
       "       [106.532, 110.233,  99.853],\n",
       "       [110.215, 108.115, 100.871],\n",
       "       [108.747, 107.687,  99.049],\n",
       "       [109.912, 109.796, 102.425],\n",
       "       [107.365, 110.441, 100.833],\n",
       "       [106.887, 109.214,  99.033],\n",
       "       [105.363, 106.681,  96.891],\n",
       "       [102.958, 107.31 ,  97.954],\n",
       "       [105.386, 109.8  ,  97.172],\n",
       "       [103.351, 111.022,  98.64 ],\n",
       "       [102.615, 112.361,  99.078]], dtype=float32)"
      ]
     },
     "execution_count": 89,
     "metadata": {},
     "output_type": "execute_result"
    }
   ],
   "source": [
    "ref_atoms.positions"
   ]
  },
  {
   "cell_type": "code",
   "execution_count": 90,
   "id": "def6cc70-65c2-4575-8a4d-fe3eddf629d8",
   "metadata": {},
   "outputs": [
    {
     "data": {
      "text/plain": [
       "array([[ 97.701, 108.789, 106.24 ],\n",
       "       [ 99.779, 107.453, 109.821],\n",
       "       [ 97.991, 107.594, 105.374],\n",
       "       [ 98.19 , 108.232, 104.017],\n",
       "       [ 99.538, 108.719, 108.05 ],\n",
       "       [ 97.14 , 109.327, 104.051],\n",
       "       [100.638, 109.467, 108.343],\n",
       "       [ 97.389, 110.463, 103.104],\n",
       "       [101.346, 109.148, 109.497],\n",
       "       [ 99.853, 110.233, 106.532],\n",
       "       [100.871, 108.115, 110.215],\n",
       "       [ 99.049, 107.687, 108.747],\n",
       "       [102.425, 109.796, 109.912],\n",
       "       [100.833, 110.441, 107.365],\n",
       "       [ 99.033, 109.214, 106.887],\n",
       "       [ 96.891, 106.681, 105.363],\n",
       "       [ 97.954, 107.31 , 102.958],\n",
       "       [ 97.172, 109.8  , 105.386],\n",
       "       [ 98.64 , 111.022, 103.351],\n",
       "       [ 99.078, 112.361, 102.615]], dtype=float32)"
      ]
     },
     "execution_count": 90,
     "metadata": {},
     "output_type": "execute_result"
    }
   ],
   "source": []
  },
  {
   "cell_type": "code",
   "execution_count": 20,
   "id": "2fd1db02-5aba-4c29-8b20-5a4aff42e39b",
   "metadata": {},
   "outputs": [
    {
     "data": {
      "text/plain": [
       "0.23011942654472267"
      ]
     },
     "execution_count": 20,
     "metadata": {},
     "output_type": "execute_result"
    }
   ],
   "source": [
    "rmsd"
   ]
  },
  {
   "cell_type": "code",
   "execution_count": null,
   "id": "04ae730a-e307-41ef-b883-0db328b3bb87",
   "metadata": {},
   "outputs": [],
   "source": [
    "        md_coords = np.matmul(R,atom_coord) + T\n",
    "        all_mg_dens.append(md_mg_dens(md_coords)[0])"
   ]
  },
  {
   "cell_type": "code",
   "execution_count": null,
   "id": "f96726cb-f647-451d-9c75-cb5eacd1c701",
   "metadata": {},
   "outputs": [],
   "source": []
  },
  {
   "cell_type": "code",
   "execution_count": null,
   "id": "afd1da73-03bc-44d0-a974-12de3b630b6d",
   "metadata": {},
   "outputs": [],
   "source": []
  },
  {
   "cell_type": "code",
   "execution_count": null,
   "id": "20c87819-9d7d-4f74-844e-acc1f391adfb",
   "metadata": {},
   "outputs": [],
   "source": []
  }
 ],
 "metadata": {
  "kernelspec": {
   "display_name": "Python 3 (ipykernel)",
   "language": "python",
   "name": "python3"
  },
  "language_info": {
   "codemirror_mode": {
    "name": "ipython",
    "version": 3
   },
   "file_extension": ".py",
   "mimetype": "text/x-python",
   "name": "python",
   "nbconvert_exporter": "python",
   "pygments_lexer": "ipython3",
   "version": "3.8.16"
  }
 },
 "nbformat": 4,
 "nbformat_minor": 5
}
